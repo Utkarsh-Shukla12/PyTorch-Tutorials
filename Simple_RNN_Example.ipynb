{
 "cells": [
  {
   "cell_type": "markdown",
   "metadata": {},
   "source": [
    "## Simple RNNs\n",
    "\n",
    "In this notebook, we are going to train a Simple RNNs to do a **time-series prediction**.\n",
    "\n",
    ">* Create Data\n",
    "* Define RNNs in PyTorch\n",
    "* Train the model"
   ]
  },
  {
   "cell_type": "markdown",
   "metadata": {},
   "source": [
    "### Import Library and create data"
   ]
  },
  {
   "cell_type": "code",
   "execution_count": 1,
   "metadata": {},
   "outputs": [],
   "source": [
    "import torch\n",
    "from torch import nn\n",
    "import numpy as np\n",
    "import matplotlib.pyplot as plt\n",
    "import seaborn as sns\n",
    "%matplotlib inline\n"
   ]
  },
  {
   "cell_type": "code",
   "execution_count": 2,
   "metadata": {},
   "outputs": [
    {
     "data": {
      "image/png": "[encoded data removed]",
      "text/plain": [
       "<Figure size 576x360 with 1 Axes>"
      ]
     },
     "metadata": {
      "needs_background": "light"
     },
     "output_type": "display_data"
    }
   ],
   "source": [
    "plt.figure(figsize=(8, 5))\n",
    "\n",
    "#how many time step/data pts are in one batch of data\n",
    "sequence = 20\n",
    "\n",
    "# Generate Data pts\n",
    "time_steps = np.linspace(0, np.pi, sequence + 1)\n",
    "data = np.sin(time_steps)\n",
    "data.resize((sequence + 1, 1))\n",
    "\n",
    "x = data[:-1]\n",
    "y = data[1:]\n",
    "\n",
    "#plot the data points\n",
    "plt.plot(time_steps[1:], x, 'r.', label = 'input, x')  # x\n",
    "plt.plot(time_steps[1:], y, 'b.', label = 'target, y') # y\n",
    "\n",
    "plt.legend(loc='best')\n",
    "plt.show()"
   ]
  },
  {
   "cell_type": "markdown",
   "metadata": {},
   "source": [
    "## Define RNN using PyTorch"
   ]
  },
  {
   "cell_type": "code",
   "execution_count": 3,
   "metadata": {},
   "outputs": [],
   "source": [
    "class RNN(nn.Module):\n",
    "    def __init__(self, input_size, output_size, hidden_dim, n_layers):\n",
    "        super(RNN, self).__init__()\n",
    "        \n",
    "        self.hidden_dim = hidden_dim\n",
    "        \n",
    "        \n",
    "        #deine the RNN\n",
    "        self.rnn = nn.RNN(input_size, hidden_dim, n_layers, batch_first = True)\n",
    "        \n",
    "        #Fully connected layer\n",
    "        self.fc = nn.Linear(hidden_dim, output_size)\n",
    "         \n",
    "        \n",
    "    def forward(self, x, hidden):\n",
    "            batch_size = x.size(0)\n",
    "            r_out, hidden = self.rnn(x, hidden)\n",
    "            r_out = r_out.view(-1, self.hidden_dim)\n",
    "            \n",
    "            #final output\n",
    "            output = self.fc(r_out)\n",
    "            return output, hidden"
   ]
  },
  {
   "cell_type": "code",
   "execution_count": 4,
   "metadata": {},
   "outputs": [
    {
     "name": "stdout",
     "output_type": "stream",
     "text": [
      "Input size: torch.Size([1, 20, 1])\n",
      "Output size: torch.Size([20, 1])\n",
      "Hidden size: torch.Size([2, 1, 10])\n"
     ]
    }
   ],
   "source": [
    "#test the dimensions\n",
    "\n",
    "test_rnn = RNN( input_size=1, output_size = 1, hidden_dim = 10, n_layers =2)\n",
    "\n",
    "\n",
    "# Generate Data pts\n",
    "time_steps = np.linspace(0, np.pi, sequence + 1)\n",
    "data = np.sin(time_steps)\n",
    "data.resize((sequence, 1))\n",
    "\n",
    "test_input = torch.Tensor(data).unsqueeze(0)\n",
    "\n",
    "print ('Input size: {}'.format(test_input.size()))\n",
    "\n",
    "test_out, test_h = test_rnn(test_input, None)\n",
    "print ('Output size: {}'.format(test_out.size()))\n",
    "print ('Hidden size: {}'.format(test_h.size()))"
   ]
  },
  {
   "cell_type": "markdown",
   "metadata": {},
   "source": [
    "## Train the Model!!\n",
    "\n",
    "Let's dive in. :)"
   ]
  },
  {
   "cell_type": "code",
   "execution_count": 5,
   "metadata": {},
   "outputs": [
    {
     "name": "stdout",
     "output_type": "stream",
     "text": [
      "RNN(\n",
      "  (rnn): RNN(1, 32, batch_first=True)\n",
      "  (fc): Linear(in_features=32, out_features=1, bias=True)\n",
      ")\n"
     ]
    }
   ],
   "source": [
    "# Model's Hyperparamters\n",
    "input_size = 1\n",
    "output_size = 1\n",
    "hidden_dim = 32\n",
    "n_layers = 1\n",
    "\n",
    "#instantiate a RNN\n",
    "rnn = RNN(input_size, output_size, hidden_dim, n_layers)\n",
    "print (rnn)"
   ]
  },
  {
   "cell_type": "markdown",
   "metadata": {},
   "source": [
    "## Loss and optimizer!!\n",
    "\n"
   ]
  },
  {
   "cell_type": "code",
   "execution_count": 6,
   "metadata": {},
   "outputs": [],
   "source": [
    "criterion = nn.MSELoss()\n",
    "optimizer = torch.optim.Adam(rnn.parameters(), lr = 0.01)"
   ]
  },
  {
   "cell_type": "markdown",
   "metadata": {},
   "source": [
    "# Define the training Function"
   ]
  },
  {
   "cell_type": "code",
   "execution_count": 7,
   "metadata": {},
   "outputs": [],
   "source": [
    "def train (rnn, steps, print_every):\n",
    "    hidden = None\n",
    "    \n",
    "    for batch, step in enumerate(range(steps)):\n",
    "        time_steps = np.linspace(step * np.pi, (step+1)*np.pi, sequence + 1)\n",
    "        data = np.sin(time_steps)\n",
    "        data.resize((sequence + 1, 1))\n",
    "        \n",
    "        x = data[:-1]\n",
    "        y = data[1:]\n",
    "        \n",
    "        #Convert it into tensor\n",
    "        x_tensor = torch.Tensor(x).unsqueeze(0)\n",
    "        y_tensor = torch.Tensor(y)\n",
    "        \n",
    "        #Output\n",
    "        prediction, hidden = rnn(x_tensor, hidden)\n",
    "        \n",
    "        hidden = hidden.data\n",
    "        #Set optimizer to zero \n",
    "        optimizer.zero_grad()\n",
    "        \n",
    "        #Calculate the loss\n",
    "        loss = criterion(prediction, y_tensor)\n",
    "        \n",
    "        #perform Backprop\n",
    "        loss.backward()\n",
    "        optimizer.step()\n",
    "        \n",
    "         # display loss and predictions\n",
    "        if batch%print_every == 0:        \n",
    "            print('Loss: ', loss.item())\n",
    "            plt.plot(time_steps[1:], x, 'r.') # input\n",
    "            plt.plot(time_steps[1:], prediction.data.numpy().flatten(), 'b.') # predictions\n",
    "            plt.show()\n",
    "    \n",
    "    return rnn \n",
    "        \n",
    "        \n",
    "    "
   ]
  },
  {
   "cell_type": "markdown",
   "metadata": {},
   "source": [
    "## Train it!!\n",
    "\n",
    "Finally!!"
   ]
  },
  {
   "cell_type": "code",
   "execution_count": 8,
   "metadata": {},
   "outputs": [
    {
     "name": "stdout",
     "output_type": "stream",
     "text": [
      "Loss:  0.6329301595687866\n"
     ]
    },
    {
     "data": {
      "image/png": "[encoded data removed]",
      "text/plain": [
       "<Figure size 432x288 with 1 Axes>"
      ]
     },
     "metadata": {
      "needs_background": "light"
     },
     "output_type": "display_data"
    },
    {
     "name": "stdout",
     "output_type": "stream",
     "text": [
      "Loss:  0.06349427253007889\n"
     ]
    },
    {
     "data": {
      "image/png": "[encoded data removed]",
      "text/plain": [
       "<Figure size 432x288 with 1 Axes>"
      ]
     },
     "metadata": {
      "needs_background": "light"
     },
     "output_type": "display_data"
    },
    {
     "name": "stdout",
     "output_type": "stream",
     "text": [
      "Loss:  0.011008521541953087\n"
     ]
    },
    {
     "data": {
      "image/png": "[encoded data removed]",
      "text/plain": [
       "<Figure size 432x288 with 1 Axes>"
      ]
     },
     "metadata": {
      "needs_background": "light"
     },
     "output_type": "display_data"
    },
    {
     "name": "stdout",
     "output_type": "stream",
     "text": [
      "Loss:  0.002921287901699543\n"
     ]
    },
    {
     "data": {
      "image/png": "[encoded data removed]",
      "text/plain": [
       "<Figure size 432x288 with 1 Axes>"
      ]
     },
     "metadata": {
      "needs_background": "light"
     },
     "output_type": "display_data"
    },
    {
     "name": "stdout",
     "output_type": "stream",
     "text": [
      "Loss:  0.00032376620220020413\n"
     ]
    },
    {
     "data": {
      "image/png": "[encoded data removed]",
      "text/plain": [
       "<Figure size 432x288 with 1 Axes>"
      ]
     },
     "metadata": {
      "needs_background": "light"
     },
     "output_type": "display_data"
    },
    {
     "name": "stdout",
     "output_type": "stream",
     "text": [
      "Loss:  0.0003875246620737016\n"
     ]
    },
    {
     "data": {
      "image/png": "[encoded data removed]",
      "text/plain": [
       "<Figure size 432x288 with 1 Axes>"
      ]
     },
     "metadata": {
      "needs_background": "light"
     },
     "output_type": "display_data"
    },
    {
     "name": "stdout",
     "output_type": "stream",
     "text": [
      "Loss:  0.0002874383353628218\n"
     ]
    },
    {
     "data": {
      "image/png": "[encoded data removed]",
      "text/plain": [
       "<Figure size 432x288 with 1 Axes>"
      ]
     },
     "metadata": {
      "needs_background": "light"
     },
     "output_type": "display_data"
    },
    {
     "name": "stdout",
     "output_type": "stream",
     "text": [
      "Loss:  0.0002127287007169798\n"
     ]
    },
    {
     "data": {
      "image/png": "[encoded data removed]",
      "text/plain": [
       "<Figure size 432x288 with 1 Axes>"
      ]
     },
     "metadata": {
      "needs_background": "light"
     },
     "output_type": "display_data"
    }
   ],
   "source": [
    "# Define some parameters\n",
    "steps= 80\n",
    "print_every = 10\n",
    "\n",
    "train_rnn = train(rnn, steps, print_every)"
   ]
  },
  {
   "cell_type": "markdown",
   "metadata": {},
   "source": [
    "### Time-Series Prediction\n",
    "\n",
    "Time-series prediction can be applied to many tasks. Think about weather forecasting or predicting the ebb and flow of stock market prices. You can even try to generate predictions much further in the future than just one time step!"
   ]
  }
 ],
 "metadata": {
  "kernelspec": {
   "display_name": "Python [conda env:root] *",
   "language": "python",
   "name": "conda-root-py"
  },
  "language_info": {
   "codemirror_mode": {
    "name": "ipython",
    "version": 3
   },
   "file_extension": ".py",
   "mimetype": "text/x-python",
   "name": "python",
   "nbconvert_exporter": "python",
   "pygments_lexer": "ipython3",
   "version": "3.7.6"
  }
 },
 "nbformat": 4,
 "nbformat_minor": 2
}
